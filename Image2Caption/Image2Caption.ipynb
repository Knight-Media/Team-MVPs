{
 "cells": [
  {
   "cell_type": "code",
   "execution_count": 1,
   "metadata": {},
   "outputs": [],
   "source": [
    "# Libraries\n",
    "import base64\n",
    "import io\n",
    "from openai import OpenAI\n",
    "from Credentials import *"
   ]
  },
  {
   "cell_type": "markdown",
   "metadata": {},
   "source": [
    "### Function to Fetch Image from URL"
   ]
  },
  {
   "cell_type": "code",
   "execution_count": 2,
   "metadata": {},
   "outputs": [],
   "source": [
    "from PIL import Image\n",
    "import requests\n",
    "import os\n",
    "\n",
    "def getImage(source):\n",
    "    try:\n",
    "        # Check if the source is a URL\n",
    "        if source.startswith(\"http://\") or source.startswith(\"https://\"):\n",
    "            response = requests.get(source, stream=True)\n",
    "            response.raise_for_status()\n",
    "            image = Image.open(response.raw)\n",
    "        else:\n",
    "            # Assume the source is a file path\n",
    "            if not os.path.exists(source):\n",
    "                raise FileNotFoundError(f\"The file path {source} does not exist.\")\n",
    "            image = Image.open(source)\n",
    "            \n",
    "        return image\n",
    "    except (requests.exceptions.RequestException, FileNotFoundError, IOError) as e:\n",
    "        print(f\"Error in get_image...take action \\n Error: {e}\")\n"
   ]
  },
  {
   "cell_type": "markdown",
   "metadata": {},
   "source": [
    "### Caption Generation"
   ]
  },
  {
   "cell_type": "markdown",
   "metadata": {},
   "source": [
    "##### Encoding Image using base64 to transmit in api"
   ]
  },
  {
   "cell_type": "code",
   "execution_count": 3,
   "metadata": {},
   "outputs": [],
   "source": [
    "def encode_image(image):\n",
    "  buffered = io.BytesIO()\n",
    "  image.save(buffered, format=\"PNG\")\n",
    "  image_bytes = buffered.getvalue()\n",
    "  \n",
    "  # Encode the image bytes to base64\n",
    "  return base64.b64encode(image_bytes).decode('utf-8')"
   ]
  },
  {
   "cell_type": "code",
   "execution_count": 46,
   "metadata": {},
   "outputs": [],
   "source": [
    "client = OpenAI(api_key = OPEN_AI_API_KEY)\n",
    "\n",
    "def generateImageCaption(base64_image):\n",
    "    ques = f\"\"\"\n",
    "Describe the image in minimum number of tokens, max {MAX_TOKENS_TO_GENERATE} tokens allowed. \n",
    "Try to include differnt possible aspect of image such as Subject, Action, Products, Brands, Location.\n",
    "Make result descriptive, meaningful and use simple language.\n",
    "Focus on main subject.\n",
    "\"\"\"\n",
    "    try:\n",
    "        response = client.chat.completions.create(\n",
    "            model=IMAGE2TEXTMODEL,\n",
    "            messages=[\n",
    "                {\n",
    "                \"role\": \"user\",\n",
    "                \"content\": [\n",
    "                    {\n",
    "                        \"type\": \"text\", \n",
    "                        \"text\": ques,\n",
    "                    },\n",
    "                    {\n",
    "                    \"type\": \"image_url\",\n",
    "                    \"image_url\": {\n",
    "                        \"url\": f\"data:image/jpeg;base64,{base64_image}\",\n",
    "                    },\n",
    "                    },\n",
    "                ],\n",
    "                }\n",
    "            ],\n",
    "            max_tokens=MAX_TOKENS_TO_GENERATE+10,\n",
    "        )\n",
    "        return response.choices[0].message.content\n",
    "    except:\n",
    "        return \"Error in API Calling...Take Action before too it's get too late\""
   ]
  },
  {
   "cell_type": "code",
   "execution_count": 47,
   "metadata": {},
   "outputs": [],
   "source": [
    "def getImageCaption(url):\n",
    "    image = getImage(url)\n",
    "    base64_image = encode_image(image)\n",
    "    caption = generateImageCaption(base64_image)\n",
    "    return caption"
   ]
  },
  {
   "cell_type": "code",
   "execution_count": 50,
   "metadata": {},
   "outputs": [
    {
     "data": {
      "text/plain": [
       "'Child on Ford tractor, autumn field, clear sky, rural landscape.'"
      ]
     },
     "execution_count": 50,
     "metadata": {},
     "output_type": "execute_result"
    }
   ],
   "source": [
    "# caption = getImageCaption(\"https://static1.bigstockphoto.com/1/5/2/large1500/251357800.jpg\")\n",
    "caption = getImageCaption(\"/Users/manoj.kuma/Project/Media-Hackathon/Team-MVPs/DataSet/vehicle_data/tractor/1d2019cc-38cd-46dd-ab5e-17ea866cc282.jpg\")\n",
    "caption"
   ]
  },
  {
   "cell_type": "code",
   "execution_count": null,
   "metadata": {},
   "outputs": [],
   "source": []
  }
 ],
 "metadata": {
  "kernelspec": {
   "display_name": ".venv",
   "language": "python",
   "name": "python3"
  },
  "language_info": {
   "codemirror_mode": {
    "name": "ipython",
    "version": 3
   },
   "file_extension": ".py",
   "mimetype": "text/x-python",
   "name": "python",
   "nbconvert_exporter": "python",
   "pygments_lexer": "ipython3",
   "version": "3.11.7"
  }
 },
 "nbformat": 4,
 "nbformat_minor": 2
}
